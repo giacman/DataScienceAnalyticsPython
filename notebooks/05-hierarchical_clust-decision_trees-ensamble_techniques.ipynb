{
  "cells": [
    {
      "cell_type": "markdown",
      "source": [
        "# Chapter 7\n",
        "# Hierarchical Clustering, Decision Trees and Ensamble Techinques"
      ],
      "metadata": {}
    }
  ],
  "metadata": {
    "kernel_info": {
      "name": "dsap"
    },
    "language_info": {
      "pygments_lexer": "ipython3",
      "name": "python",
      "nbconvert_exporter": "python",
      "mimetype": "text/x-python",
      "version": "3.5.5",
      "codemirror_mode": {
        "version": 3,
        "name": "ipython"
      },
      "file_extension": ".py"
    },
    "kernelspec": {
      "name": "dsap",
      "language": "python",
      "display_name": "DSAP"
    },
    "nteract": {
      "version": "0.12.3"
    }
  },
  "nbformat": 4,
  "nbformat_minor": 4
}