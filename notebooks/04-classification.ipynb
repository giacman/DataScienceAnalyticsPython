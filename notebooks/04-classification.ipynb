{
  "cells": [
    {
      "cell_type": "code",
      "source": [
        "# Chapter 6"
      ],
      "outputs": [],
      "execution_count": 164,
      "metadata": {
        "collapsed": false,
        "outputHidden": false,
        "inputHidden": false
      }
    },
    {
      "cell_type": "code",
      "source": [
        "# Classification with KNN"
      ],
      "outputs": [],
      "execution_count": 165,
      "metadata": {
        "collapsed": false,
        "outputHidden": false,
        "inputHidden": false
      }
    },
    {
      "cell_type": "code",
      "source": [
        "from sklearn.datasets import load_iris\n",
        "import sklearn.model_selection as ms\n",
        "from sklearn.model_selection import GridSearchCV\n",
        "from sklearn import neighbors"
      ],
      "outputs": [],
      "execution_count": 166,
      "metadata": {
        "collapsed": false,
        "outputHidden": false,
        "inputHidden": false
      }
    },
    {
      "cell_type": "code",
      "source": [
        "iris = load_iris()"
      ],
      "outputs": [],
      "execution_count": 167,
      "metadata": {
        "collapsed": false,
        "outputHidden": false,
        "inputHidden": false
      }
    },
    {
      "cell_type": "code",
      "source": [
        "X = iris.data\n",
        "Y = iris.target"
      ],
      "outputs": [],
      "execution_count": 168,
      "metadata": {
        "collapsed": false,
        "outputHidden": false,
        "inputHidden": false
      }
    },
    {
      "cell_type": "code",
      "source": [
        "XTrain, XTest, YTrain, YTest =\\\n",
        "ms.train_test_split(X,Y, test_size = 0.3, random_state = 7)"
      ],
      "outputs": [],
      "execution_count": 169,
      "metadata": {
        "collapsed": false,
        "outputHidden": false,
        "inputHidden": false
      }
    },
    {
      "cell_type": "code",
      "source": [
        "# With KNN we need to find the appropriate value of k. and we can do this \n",
        "# with the help of GridSearchCV"
      ],
      "outputs": [],
      "execution_count": 170,
      "metadata": {
        "collapsed": false,
        "outputHidden": false,
        "inputHidden": false
      }
    },
    {
      "cell_type": "code",
      "source": [
        "k_neighbours = list(range(1,21,2)) # list of even numbers as candidates\n",
        "n_grid = [{'n_neighbors':k_neighbours}]"
      ],
      "outputs": [],
      "execution_count": 171,
      "metadata": {
        "collapsed": false,
        "outputHidden": false,
        "inputHidden": false
      }
    },
    {
      "cell_type": "code",
      "source": [
        "model = neighbors.KNeighborsClassifier()"
      ],
      "outputs": [],
      "execution_count": 172,
      "metadata": {
        "collapsed": false,
        "outputHidden": false,
        "inputHidden": false
      }
    },
    {
      "cell_type": "code",
      "source": [
        "# We are performing cross-validation with 10 folds in our training data"
      ],
      "outputs": [],
      "execution_count": 173,
      "metadata": {
        "collapsed": false,
        "outputHidden": false,
        "inputHidden": false
      }
    },
    {
      "cell_type": "code",
      "source": [
        "cv_knn = GridSearchCV(estimator = model, param_grid =  n_grid,\\\n",
        "                     cv = ms.KFold(n_splits=10))"
      ],
      "outputs": [],
      "execution_count": 174,
      "metadata": {
        "collapsed": false,
        "outputHidden": false,
        "inputHidden": false
      }
    },
    {
      "cell_type": "code",
      "source": [
        "cv_knn.fit(XTrain, YTrain)"
      ],
      "outputs": [
        {
          "output_type": "execute_result",
          "execution_count": 175,
          "data": {
            "text/plain": [
              "GridSearchCV(cv=KFold(n_splits=10, random_state=None, shuffle=False),\n",
              "       error_score='raise',\n",
              "       estimator=KNeighborsClassifier(algorithm='auto', leaf_size=30, metric='minkowski',\n",
              "           metric_params=None, n_jobs=1, n_neighbors=5, p=2,\n",
              "           weights='uniform'),\n",
              "       fit_params={}, iid=True, n_jobs=1,\n",
              "       param_grid=[{'n_neighbors': [1, 3, 5, 7, 9, 11, 13, 15, 17, 19]}],\n",
              "       pre_dispatch='2*n_jobs', refit=True, return_train_score=True,\n",
              "       scoring=None, verbose=0)"
            ]
          },
          "metadata": {}
        }
      ],
      "execution_count": 175,
      "metadata": {
        "collapsed": false,
        "outputHidden": false,
        "inputHidden": false
      }
    },
    {
      "cell_type": "code",
      "source": [
        "best_k = cv_knn.best_params_['n_neighbors']"
      ],
      "outputs": [],
      "execution_count": 176,
      "metadata": {
        "collapsed": false,
        "outputHidden": false,
        "inputHidden": false
      }
    },
    {
      "cell_type": "code",
      "source": [
        "print('The best parameter is k = {0}'.format(best_k))"
      ],
      "outputs": [
        {
          "output_type": "stream",
          "name": "stdout",
          "text": [
            "The best parameter is k = 11\n"
          ]
        }
      ],
      "execution_count": 177,
      "metadata": {
        "collapsed": false,
        "outputHidden": false,
        "inputHidden": false
      }
    },
    {
      "cell_type": "code",
      "source": [
        "# For visualisation purposes we will concentrate on only two features:\n",
        "# sepal width and petal lenght\n",
        "\n",
        "knnclf = neighbors.KNeighborsClassifier(n_neighbors=best_k)\n",
        "\nknnclf.fit(XTrain[:, 2:4], YTrain) "
      ],
      "outputs": [
        {
          "output_type": "execute_result",
          "execution_count": 178,
          "data": {
            "text/plain": [
              "KNeighborsClassifier(algorithm='auto', leaf_size=30, metric='minkowski',\n",
              "           metric_params=None, n_jobs=1, n_neighbors=11, p=2,\n",
              "           weights='uniform')"
            ]
          },
          "metadata": {}
        }
      ],
      "execution_count": 178,
      "metadata": {
        "collapsed": false,
        "outputHidden": false,
        "inputHidden": false
      }
    },
    {
      "cell_type": "code",
      "source": [
        "y_pred = knnclf.predict(XTest[:, 2:4])"
      ],
      "outputs": [],
      "execution_count": 179,
      "metadata": {
        "collapsed": false,
        "outputHidden": false,
        "inputHidden": false
      }
    },
    {
      "cell_type": "code",
      "source": [
        "from sklearn.metrics import confusion_matrix"
      ],
      "outputs": [],
      "execution_count": 180,
      "metadata": {
        "collapsed": false,
        "outputHidden": false,
        "inputHidden": false
      }
    },
    {
      "cell_type": "code",
      "source": [
        "confusion_matrix(YTest, y_pred)"
      ],
      "outputs": [
        {
          "output_type": "execute_result",
          "execution_count": 181,
          "data": {
            "text/plain": [
              "array([[12,  0,  0],\n",
              "       [ 0, 14,  2],\n",
              "       [ 0,  2, 15]])"
            ]
          },
          "metadata": {}
        }
      ],
      "execution_count": 181,
      "metadata": {
        "collapsed": false,
        "outputHidden": false,
        "inputHidden": false
      }
    },
    {
      "cell_type": "code",
      "source": [
        "# 4 instances have been missclassified. "
      ],
      "outputs": [],
      "execution_count": 182,
      "metadata": {
        "collapsed": false,
        "outputHidden": false,
        "inputHidden": false
      }
    },
    {
      "cell_type": "code",
      "source": [
        "from sklearn.metrics import classification_report"
      ],
      "outputs": [],
      "execution_count": 183,
      "metadata": {
        "collapsed": false,
        "outputHidden": false,
        "inputHidden": false
      }
    },
    {
      "cell_type": "code",
      "source": [
        "print(classification_report(YTest, y_pred))"
      ],
      "outputs": [
        {
          "output_type": "stream",
          "name": "stdout",
          "text": [
            "             precision    recall  f1-score   support\n",
            "\n",
            "          0       1.00      1.00      1.00        12\n",
            "          1       0.88      0.88      0.88        16\n",
            "          2       0.88      0.88      0.88        17\n",
            "\n",
            "avg / total       0.91      0.91      0.91        45\n",
            "\n"
          ]
        }
      ],
      "execution_count": 184,
      "metadata": {
        "collapsed": false,
        "outputHidden": false,
        "inputHidden": false
      }
    },
    {
      "cell_type": "code",
      "source": [
        "# Classification with Logistic Regression"
      ],
      "outputs": [],
      "execution_count": 185,
      "metadata": {
        "collapsed": false,
        "outputHidden": false,
        "inputHidden": false
      }
    },
    {
      "cell_type": "code",
      "source": [
        "import pandas as pd"
      ],
      "outputs": [],
      "execution_count": 186,
      "metadata": {
        "collapsed": false,
        "outputHidden": false,
        "inputHidden": false
      }
    },
    {
      "cell_type": "code",
      "source": [
        "bc = pd.read_csv('../data/breast-cancer-wisconsin.csv')"
      ],
      "outputs": [],
      "execution_count": 187,
      "metadata": {
        "collapsed": false,
        "outputHidden": false,
        "inputHidden": false
      }
    },
    {
      "cell_type": "code",
      "source": [
        "# Let's clean up wrongly formatted data"
      ],
      "outputs": [],
      "execution_count": 188,
      "metadata": {
        "collapsed": false,
        "outputHidden": false,
        "inputHidden": false
      }
    },
    {
      "cell_type": "code",
      "source": [
        "bc['bare_nucleoli'] = pd.to_numeric(bc['bare_nucleoli'], errors='coerce')"
      ],
      "outputs": [],
      "execution_count": 189,
      "metadata": {
        "collapsed": false,
        "outputHidden": false,
        "inputHidden": false
      }
    },
    {
      "cell_type": "code",
      "source": [
        "# Remove Null values"
      ],
      "outputs": [],
      "execution_count": 190,
      "metadata": {
        "collapsed": false,
        "outputHidden": false,
        "inputHidden": false
      }
    },
    {
      "cell_type": "code",
      "source": [
        "bc = bc.dropna()"
      ],
      "outputs": [],
      "execution_count": 191,
      "metadata": {
        "collapsed": false,
        "outputHidden": false,
        "inputHidden": false
      }
    },
    {
      "cell_type": "code",
      "source": [
        "# convert class to categorical value"
      ],
      "outputs": [],
      "execution_count": 192,
      "metadata": {
        "collapsed": false,
        "outputHidden": false,
        "inputHidden": false
      }
    },
    {
      "cell_type": "code",
      "source": [
        "bc['class'] = bc['class'].astype('category')\n",
        "bc['class'].describe()"
      ],
      "outputs": [
        {
          "output_type": "execute_result",
          "execution_count": 193,
          "data": {
            "text/plain": [
              "count     683\n",
              "unique      2\n",
              "top         2\n",
              "freq      444\n",
              "Name: class, dtype: int64"
            ]
          },
          "metadata": {}
        }
      ],
      "execution_count": 193,
      "metadata": {
        "collapsed": false,
        "outputHidden": false,
        "inputHidden": false
      }
    },
    {
      "cell_type": "code",
      "source": [
        "# Let's prepare our data by separating the labels from the rest of the dataset"
      ],
      "outputs": [],
      "execution_count": 194,
      "metadata": {
        "collapsed": false,
        "outputHidden": false,
        "inputHidden": false
      }
    },
    {
      "cell_type": "code",
      "source": [
        "X = bc.drop(['class'], axis=1)"
      ],
      "outputs": [],
      "execution_count": 195,
      "metadata": {
        "collapsed": false,
        "outputHidden": false,
        "inputHidden": false
      }
    },
    {
      "cell_type": "code",
      "source": [
        "X = X.values"
      ],
      "outputs": [],
      "execution_count": 196,
      "metadata": {
        "collapsed": false,
        "outputHidden": false,
        "inputHidden": false
      }
    },
    {
      "cell_type": "code",
      "source": [
        "Y_raw = bc['class'].values"
      ],
      "outputs": [],
      "execution_count": 197,
      "metadata": {
        "collapsed": false,
        "outputHidden": false,
        "inputHidden": false
      }
    },
    {
      "cell_type": "code",
      "source": [
        "# Let's change the labels to be 0 or 1 using LabelEncoder"
      ],
      "outputs": [],
      "execution_count": 198,
      "metadata": {
        "collapsed": false,
        "outputHidden": false,
        "inputHidden": false
      }
    },
    {
      "cell_type": "code",
      "source": [
        "from sklearn import preprocessing"
      ],
      "outputs": [],
      "execution_count": 199,
      "metadata": {
        "collapsed": false,
        "outputHidden": false,
        "inputHidden": false
      }
    },
    {
      "cell_type": "code",
      "source": [
        "label_enc = preprocessing.LabelEncoder()\n",
        "label_enc.fit(Y_raw)"
      ],
      "outputs": [
        {
          "output_type": "execute_result",
          "execution_count": 200,
          "data": {
            "text/plain": [
              "LabelEncoder()"
            ]
          },
          "metadata": {}
        }
      ],
      "execution_count": 200,
      "metadata": {
        "collapsed": false,
        "outputHidden": false,
        "inputHidden": false
      }
    },
    {
      "cell_type": "code",
      "source": [
        "Y = label_enc.transform(Y_raw)"
      ],
      "outputs": [],
      "execution_count": 201,
      "metadata": {
        "collapsed": false,
        "outputHidden": false,
        "inputHidden": false
      }
    },
    {
      "cell_type": "code",
      "source": [
        "import sklearn.model_selection as ms\n",
        "import numpy as np"
      ],
      "outputs": [],
      "execution_count": 202,
      "metadata": {
        "collapsed": false,
        "outputHidden": false,
        "inputHidden": false
      }
    },
    {
      "cell_type": "code",
      "source": [
        "XTrain, XTest, YTrain, YTest = \\\n",
        "ms.train_test_split(X,Y, test_size=0.3, random_state = 1)"
      ],
      "outputs": [],
      "execution_count": 203,
      "metadata": {
        "collapsed": false,
        "outputHidden": false,
        "inputHidden": false
      }
    },
    {
      "cell_type": "code",
      "source": [
        "from sklearn.linear_model import LogisticRegression"
      ],
      "outputs": [],
      "execution_count": 204,
      "metadata": {
        "collapsed": false,
        "outputHidden": false,
        "inputHidden": false
      }
    },
    {
      "cell_type": "code",
      "source": [
        "pen_val = ['l1', 'l2']"
      ],
      "outputs": [],
      "execution_count": 205,
      "metadata": {
        "collapsed": false,
        "outputHidden": false,
        "inputHidden": false
      }
    },
    {
      "cell_type": "code",
      "source": [
        "C_val = 2. ** np.arange(-5, 10, step = 2)"
      ],
      "outputs": [],
      "execution_count": 206,
      "metadata": {
        "collapsed": false,
        "outputHidden": false,
        "inputHidden": false
      }
    },
    {
      "cell_type": "code",
      "source": [
        "grid_s = [{'C': C_val, 'penalty': pen_val}]"
      ],
      "outputs": [],
      "execution_count": 207,
      "metadata": {
        "collapsed": false,
        "outputHidden": false,
        "inputHidden": false
      }
    },
    {
      "cell_type": "code",
      "source": [
        "model = LogisticRegression()"
      ],
      "outputs": [],
      "execution_count": 208,
      "metadata": {
        "collapsed": false,
        "outputHidden": false,
        "inputHidden": false
      }
    },
    {
      "cell_type": "code",
      "source": [
        "cv_logr = GridSearchCV(estimator = model, param_grid = grid_s, \\\n",
        "                       cv = ms.KFold(n_splits = 10))"
      ],
      "outputs": [],
      "execution_count": 209,
      "metadata": {
        "collapsed": false,
        "outputHidden": false,
        "inputHidden": false
      }
    },
    {
      "cell_type": "code",
      "source": [
        "cv_logr.fit(XTrain, YTrain)"
      ],
      "outputs": [
        {
          "output_type": "execute_result",
          "execution_count": 210,
          "data": {
            "text/plain": [
              "GridSearchCV(cv=KFold(n_splits=10, random_state=None, shuffle=False),\n",
              "       error_score='raise',\n",
              "       estimator=LogisticRegression(C=1.0, class_weight=None, dual=False, fit_intercept=True,\n",
              "          intercept_scaling=1, max_iter=100, multi_class='ovr', n_jobs=1,\n",
              "          penalty='l2', random_state=None, solver='liblinear', tol=0.0001,\n",
              "          verbose=0, warm_start=False),\n",
              "       fit_params={}, iid=True, n_jobs=1,\n",
              "       param_grid=[{'penalty': ['l1', 'l2'], 'C': array([  3.12500e-02,   1.25000e-01,   5.00000e-01,   2.00000e+00,\n",
              "         8.00000e+00,   3.20000e+01,   1.28000e+02,   5.12000e+02])}],\n",
              "       pre_dispatch='2*n_jobs', refit=True, return_train_score=True,\n",
              "       scoring=None, verbose=0)"
            ]
          },
          "metadata": {}
        }
      ],
      "execution_count": 210,
      "metadata": {
        "collapsed": false,
        "outputHidden": false,
        "inputHidden": false
      }
    },
    {
      "cell_type": "code",
      "source": [
        "best_c = cv_logr.best_params_['C']\n",
        "best_penalty = cv_logr.best_params_['penalty']"
      ],
      "outputs": [],
      "execution_count": 211,
      "metadata": {
        "collapsed": false,
        "outputHidden": false,
        "inputHidden": false
      }
    },
    {
      "cell_type": "code",
      "source": [],
      "outputs": [],
      "execution_count": 81,
      "metadata": {
        "collapsed": false,
        "outputHidden": false,
        "inputHidden": false
      }
    },
    {
      "cell_type": "code",
      "source": [],
      "outputs": [],
      "execution_count": null,
      "metadata": {
        "collapsed": false,
        "outputHidden": false,
        "inputHidden": false
      }
    },
    {
      "cell_type": "code",
      "source": [],
      "outputs": [],
      "execution_count": null,
      "metadata": {
        "collapsed": false,
        "outputHidden": false,
        "inputHidden": false
      }
    },
    {
      "cell_type": "code",
      "source": [],
      "outputs": [],
      "execution_count": null,
      "metadata": {
        "collapsed": false,
        "outputHidden": false,
        "inputHidden": false
      }
    },
    {
      "cell_type": "code",
      "source": [],
      "outputs": [],
      "execution_count": null,
      "metadata": {
        "collapsed": false,
        "outputHidden": false,
        "inputHidden": false
      }
    },
    {
      "cell_type": "code",
      "source": [],
      "outputs": [],
      "execution_count": null,
      "metadata": {
        "collapsed": false,
        "outputHidden": false,
        "inputHidden": false
      }
    },
    {
      "cell_type": "code",
      "source": [],
      "outputs": [],
      "execution_count": null,
      "metadata": {
        "collapsed": false,
        "outputHidden": false,
        "inputHidden": false
      }
    },
    {
      "cell_type": "code",
      "source": [
        "# Extra: test how KNN, logistic, Naive Bayes and RF perform on same db?"
      ],
      "outputs": [],
      "execution_count": null,
      "metadata": {
        "collapsed": false,
        "outputHidden": false,
        "inputHidden": false
      }
    }
  ],
  "metadata": {
    "kernel_info": {
      "name": "dsap"
    },
    "language_info": {
      "name": "python",
      "codemirror_mode": {
        "name": "ipython",
        "version": 3
      },
      "mimetype": "text/x-python",
      "nbconvert_exporter": "python",
      "version": "3.5.5",
      "pygments_lexer": "ipython3",
      "file_extension": ".py"
    },
    "kernelspec": {
      "name": "dsap",
      "language": "python",
      "display_name": "DSAP"
    },
    "nteract": {
      "version": "0.10.0"
    }
  },
  "nbformat": 4,
  "nbformat_minor": 4
}