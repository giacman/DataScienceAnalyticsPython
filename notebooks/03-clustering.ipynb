{
 "cells": [
  {
   "cell_type": "code",
   "execution_count": 1,
   "metadata": {},
   "outputs": [],
   "source": [
    "# Chapter 5"
   ]
  },
  {
   "cell_type": "code",
   "execution_count": 2,
   "metadata": {},
   "outputs": [],
   "source": [
    "# k-means"
   ]
  },
  {
   "cell_type": "markdown",
   "metadata": {},
   "source": [
    "Data set is available in the data foler of thie repo, and can also be download at: http://archive.ics.uci.edu/ml/datasets/Wine"
   ]
  },
  {
   "cell_type": "code",
   "execution_count": 34,
   "metadata": {},
   "outputs": [],
   "source": [
    "import pandas as pd\n",
    "from sklearn import cluster"
   ]
  },
  {
   "cell_type": "code",
   "execution_count": 35,
   "metadata": {},
   "outputs": [],
   "source": [
    "wine = pd.read_csv('../data/Wine.csv')"
   ]
  },
  {
   "cell_type": "code",
   "execution_count": 36,
   "metadata": {},
   "outputs": [],
   "source": [
    "wine.columns = [  \n",
    "    'Cultivar'\n",
    "    ,'Alcohol'\n",
    "    ,'Malic_Acid'\n",
    "    ,'Ash'\n",
    "    ,'Ash_Alcalinity'\n",
    "    ,'Magnesium'\n",
    "    ,'Total_Phenols'\n",
    "    ,'Flavonoids'\n",
    "    ,'NonFlavnoid_Phenols'\n",
    "    ,'Proanthocyanins'\n",
    "    ,'Colour_Intensity'\n",
    "    ,'Hue'\n",
    "    ,'od280_od315'\n",
    "    ,'Proline'\n",
    "]"
   ]
  },
  {
   "cell_type": "code",
   "execution_count": 37,
   "metadata": {},
   "outputs": [
    {
     "data": {
      "text/plain": [
       "Index(['Cultivar', 'Alcohol', 'Malic_Acid', 'Ash', 'Ash_Alcalinity',\n",
       "       'Magnesium', 'Total_Phenols', 'Flavonoids', 'NonFlavnoid_Phenols',\n",
       "       'Proanthocyanins', 'Colour_Intensity', 'Hue', 'od280_od315', 'Proline'],\n",
       "      dtype='object')"
      ]
     },
     "execution_count": 37,
     "metadata": {},
     "output_type": "execute_result"
    }
   ],
   "source": [
    "wine.columns"
   ]
  },
  {
   "cell_type": "code",
   "execution_count": 45,
   "metadata": {},
   "outputs": [],
   "source": [
    "X1 = wine[['Alcohol','Colour_Intensity']].values\n",
    "Y = wine['Cultivar'].values"
   ]
  },
  {
   "cell_type": "code",
   "execution_count": 39,
   "metadata": {},
   "outputs": [],
   "source": [
    "cls_wine = cluster.KMeans(n_clusters=3)"
   ]
  },
  {
   "cell_type": "code",
   "execution_count": 40,
   "metadata": {},
   "outputs": [
    {
     "data": {
      "text/plain": [
       "KMeans(algorithm='auto', copy_x=True, init='k-means++', max_iter=300,\n",
       "    n_clusters=3, n_init=10, n_jobs=1, precompute_distances='auto',\n",
       "    random_state=None, tol=0.0001, verbose=0)"
      ]
     },
     "execution_count": 40,
     "metadata": {},
     "output_type": "execute_result"
    }
   ],
   "source": [
    "cls_wine.fit(X1)"
   ]
  },
  {
   "cell_type": "code",
   "execution_count": 41,
   "metadata": {},
   "outputs": [
    {
     "name": "stdout",
     "output_type": "stream",
     "text": [
      "[0 0 1 0 0 0 0 0 1 0 0 0 0 1 1 0 0 1 0 0 0 0 2 2 2 0 0 0 0 0 0 0 0 0 0 0 0\n",
      " 2 0 0 0 0 0 0 0 0 0 0 1 1 0 1 0 0 0 0 0 0 2 2 0 0 0 2 0 0 0 2 2 2 2 0 2 2\n",
      " 2 0 2 2 2 2 2 2 0 2 2 2 2 2 2 2 2 2 2 2 2 2 2 0 2 2 2 2 2 2 2 2 2 2 2 2 2\n",
      " 2 2 2 2 2 2 2 2 2 0 2 2 2 2 2 2 2 2 0 0 0 0 0 1 2 0 0 0 0 0 0 0 1 0 0 1 1\n",
      " 1 1 1 1 1 1 1 1 1 1 1 1 0 0 0 1 0 1 1 1 1 0 1 1 1 1 1 1 1]\n"
     ]
    }
   ],
   "source": [
    "print(cls_wine.labels_)"
   ]
  },
  {
   "cell_type": "code",
   "execution_count": 42,
   "metadata": {},
   "outputs": [
    {
     "name": "stdout",
     "output_type": "stream",
     "text": [
      "[[ 13.44144737   5.18855263]\n",
      " [ 13.38472222   8.74611108]\n",
      " [ 12.25353846   2.854     ]]\n"
     ]
    }
   ],
   "source": [
    "print(cls_wine.cluster_centers_)"
   ]
  },
  {
   "cell_type": "code",
   "execution_count": 43,
   "metadata": {},
   "outputs": [],
   "source": [
    "from sklearn.metrics import silhouette_score"
   ]
  },
  {
   "cell_type": "code",
   "execution_count": 44,
   "metadata": {},
   "outputs": [
    {
     "name": "stdout",
     "output_type": "stream",
     "text": [
      "0.508791381798\n"
     ]
    }
   ],
   "source": [
    "print(silhouette_score(X1,cls_wine.labels_))"
   ]
  },
  {
   "cell_type": "code",
   "execution_count": 30,
   "metadata": {},
   "outputs": [],
   "source": [
    "# Exercis: Increase number of features"
   ]
  },
  {
   "cell_type": "code",
   "execution_count": 46,
   "metadata": {},
   "outputs": [],
   "source": [
    "X2 = wine[['Cultivar', 'Alcohol', 'Malic_Acid', 'Ash', 'Ash_Alcalinity',\n",
    "       'Magnesium', 'Total_Phenols', 'Flavonoids', 'NonFlavnoid_Phenols',\n",
    "       'Proanthocyanins', 'Colour_Intensity', 'Hue', 'od280_od315', 'Proline']].values"
   ]
  },
  {
   "cell_type": "code",
   "execution_count": 47,
   "metadata": {},
   "outputs": [],
   "source": [
    "cls_wine2 = cluster.KMeans(n_clusters=3)"
   ]
  },
  {
   "cell_type": "code",
   "execution_count": 48,
   "metadata": {},
   "outputs": [
    {
     "data": {
      "text/plain": [
       "KMeans(algorithm='auto', copy_x=True, init='k-means++', max_iter=300,\n",
       "    n_clusters=3, n_init=10, n_jobs=1, precompute_distances='auto',\n",
       "    random_state=None, tol=0.0001, verbose=0)"
      ]
     },
     "execution_count": 48,
     "metadata": {},
     "output_type": "execute_result"
    }
   ],
   "source": [
    "cls_wine2.fit(X2)"
   ]
  },
  {
   "cell_type": "code",
   "execution_count": 49,
   "metadata": {},
   "outputs": [
    {
     "name": "stdout",
     "output_type": "stream",
     "text": [
      "[1 1 1 0 1 1 1 1 1 1 1 1 1 1 1 1 1 1 0 0 0 1 1 0 0 1 1 0 1 1 1 1 1 1 0 0 1\n",
      " 1 0 0 1 1 0 0 1 1 1 1 1 1 1 1 1 1 1 1 1 1 2 0 2 0 2 2 0 2 2 0 0 0 2 2 1 0\n",
      " 2 2 2 0 2 2 0 0 2 2 2 2 2 0 0 2 2 2 2 2 0 0 2 0 2 0 2 2 2 0 2 2 2 2 0 2 2\n",
      " 0 2 2 2 2 2 2 2 0 2 2 2 2 2 2 2 2 2 0 2 2 0 0 0 0 2 2 2 0 0 2 2 0 0 2 0 0\n",
      " 2 2 2 2 0 0 0 2 0 0 0 2 0 2 0 0 2 0 0 0 0 2 2 0 0 0 0 0 2]\n"
     ]
    }
   ],
   "source": [
    "print(cls_wine2.labels_)"
   ]
  },
  {
   "cell_type": "code",
   "execution_count": 50,
   "metadata": {},
   "outputs": [
    {
     "name": "stdout",
     "output_type": "stream",
     "text": [
      "[[  2.25806452e+00   1.29298387e+01   2.50403226e+00   2.40806452e+00\n",
      "    1.98903226e+01   1.03596774e+02   2.11112903e+00   1.58403226e+00\n",
      "    3.88387097e-01   1.50338710e+00   5.65032258e+00   8.83967742e-01\n",
      "    2.36548387e+00   7.28338710e+02]\n",
      " [  1.02173913e+00   1.37952174e+01   1.88717391e+00   2.42608696e+00\n",
      "    1.70543478e+01   1.05043478e+02   2.86869565e+00   3.01326087e+00\n",
      "    2.85434783e-01   1.90217391e+00   5.70391304e+00   1.07913043e+00\n",
      "    3.09652174e+00   1.19797826e+03]\n",
      " [  2.27536232e+00   1.25166667e+01   2.49420290e+00   2.28855072e+00\n",
      "    2.08231884e+01   9.23478261e+01   2.07072464e+00   1.75840580e+00\n",
      "    3.90144928e-01   1.45188406e+00   4.08695651e+00   9.41159420e-01\n",
      "    2.49072464e+00   4.58231884e+02]]\n"
     ]
    }
   ],
   "source": [
    "print(cls_wine2.cluster_centers_)"
   ]
  },
  {
   "cell_type": "code",
   "execution_count": 51,
   "metadata": {},
   "outputs": [
    {
     "name": "stdout",
     "output_type": "stream",
     "text": [
      "0.570962141755\n"
     ]
    }
   ],
   "source": [
    "print(silhouette_score(X2,cls_wine2.labels_))"
   ]
  },
  {
   "cell_type": "code",
   "execution_count": 52,
   "metadata": {},
   "outputs": [],
   "source": [
    "X3 = wine[['Cultivar', 'Alcohol', 'Malic_Acid']]"
   ]
  },
  {
   "cell_type": "code",
   "execution_count": 53,
   "metadata": {},
   "outputs": [],
   "source": [
    "cls_wine3 = cluster.KMeans(n_clusters=3)"
   ]
  },
  {
   "cell_type": "code",
   "execution_count": 54,
   "metadata": {},
   "outputs": [
    {
     "data": {
      "text/plain": [
       "KMeans(algorithm='auto', copy_x=True, init='k-means++', max_iter=300,\n",
       "    n_clusters=3, n_init=10, n_jobs=1, precompute_distances='auto',\n",
       "    random_state=None, tol=0.0001, verbose=0)"
      ]
     },
     "execution_count": 54,
     "metadata": {},
     "output_type": "execute_result"
    }
   ],
   "source": [
    "cls_wine3.fit(X3)"
   ]
  },
  {
   "cell_type": "code",
   "execution_count": 55,
   "metadata": {},
   "outputs": [
    {
     "name": "stdout",
     "output_type": "stream",
     "text": [
      "0.482239634438\n"
     ]
    }
   ],
   "source": [
    "print(silhouette_score(X3,cls_wine3.labels_))"
   ]
  },
  {
   "cell_type": "code",
   "execution_count": 57,
   "metadata": {},
   "outputs": [],
   "source": [
    "# the smaller the silhouette score value the better."
   ]
  }
 ],
 "metadata": {
  "kernelspec": {
   "display_name": "Python 3",
   "language": "python",
   "name": "python3"
  },
  "language_info": {
   "codemirror_mode": {
    "name": "ipython",
    "version": 3
   },
   "file_extension": ".py",
   "mimetype": "text/x-python",
   "name": "python",
   "nbconvert_exporter": "python",
   "pygments_lexer": "ipython3",
   "version": "3.5.5"
  }
 },
 "nbformat": 4,
 "nbformat_minor": 2
}
