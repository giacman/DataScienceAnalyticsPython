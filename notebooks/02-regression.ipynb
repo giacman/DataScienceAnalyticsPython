{
  "cells": [
    {
      "cell_type": "code",
      "source": [
        "# Chapter 4.4"
      ],
      "outputs": [],
      "execution_count": 1,
      "metadata": {}
    },
    {
      "cell_type": "markdown",
      "source": [
        "Data set is available in the data foler of thie repo, and can also be download at: https://figshare.com/articles/Mammals_Dataset/1565651"
      ],
      "metadata": {}
    },
    {
      "cell_type": "code",
      "source": [
        "%pylab inline\n",
        "import numpy as np\n",
        "import matplotlib.pyplot as plt\n",
        "import pandas as pd"
      ],
      "outputs": [
        {
          "output_type": "stream",
          "name": "stdout",
          "text": [
            "Populating the interactive namespace from numpy and matplotlib\n"
          ]
        }
      ],
      "execution_count": 1,
      "metadata": {}
    },
    {
      "cell_type": "code",
      "source": [
        "mammals = pd.read_csv('../data/mammals.csv')"
      ],
      "outputs": [],
      "execution_count": 2,
      "metadata": {}
    },
    {
      "cell_type": "code",
      "source": [
        "plt.scatter(mammals['body'],mammals['brain'])\n",
        "plt.show()"
      ],
      "outputs": [
        {
          "output_type": "display_data",
          "data": {
            "image/png": "[encoded data removed]",
            "text/plain": [
              "<Figure size 432x288 with 1 Axes>"
            ]
          },
          "metadata": {}
        }
      ],
      "execution_count": 3,
      "metadata": {}
    },
    {
      "cell_type": "code",
      "source": [
        "body_data = mammals['body']\n",
        "body_data.shape"
      ],
      "outputs": [
        {
          "output_type": "execute_result",
          "execution_count": 4,
          "data": {
            "text/plain": [
              "(62,)"
            ]
          },
          "metadata": {}
        }
      ],
      "execution_count": 4,
      "metadata": {}
    },
    {
      "cell_type": "code",
      "source": [
        "brain_data = mammals['brain']\n",
        "brain_data.shape"
      ],
      "outputs": [
        {
          "output_type": "execute_result",
          "execution_count": 5,
          "data": {
            "text/plain": [
              "(62,)"
            ]
          },
          "metadata": {}
        }
      ],
      "execution_count": 5,
      "metadata": {}
    },
    {
      "cell_type": "code",
      "source": [
        "# Regression with statsmodels"
      ],
      "outputs": [],
      "execution_count": 6,
      "metadata": {}
    },
    {
      "cell_type": "code",
      "source": [
        "import statsmodels.api as sm\n",
        "import statsmodels.formula.api as smf"
      ],
      "outputs": [],
      "execution_count": 7,
      "metadata": {}
    },
    {
      "cell_type": "code",
      "source": [
        "body_data = sm.add_constant(body_data)"
      ],
      "outputs": [],
      "execution_count": 8,
      "metadata": {}
    },
    {
      "cell_type": "code",
      "source": [
        "regression1 = sm.OLS(brain_data, body_data).fit()"
      ],
      "outputs": [],
      "execution_count": 9,
      "metadata": {}
    },
    {
      "cell_type": "code",
      "source": [
        "regression2 = smf.ols(formula='brain~body',data=mammals).fit()"
      ],
      "outputs": [],
      "execution_count": 10,
      "metadata": {}
    },
    {
      "cell_type": "code",
      "source": [
        "print(regression1.summary())"
      ],
      "outputs": [
        {
          "output_type": "stream",
          "name": "stdout",
          "text": [
            "                            OLS Regression Results                            \n",
            "==============================================================================\n",
            "Dep. Variable:                  brain   R-squared:                       0.873\n",
            "Model:                            OLS   Adj. R-squared:                  0.871\n",
            "Method:                 Least Squares   F-statistic:                     411.2\n",
            "Date:                Sat, 18 Aug 2018   Prob (F-statistic):           1.54e-28\n",
            "Time:                        10:43:15   Log-Likelihood:                -447.38\n",
            "No. Observations:                  62   AIC:                             898.8\n",
            "Df Residuals:                      60   BIC:                             903.0\n",
            "Df Model:                           1                                         \n",
            "Covariance Type:            nonrobust                                         \n",
            "==============================================================================\n",
            "                 coef    std err          t      P>|t|      [0.025      0.975]\n",
            "------------------------------------------------------------------------------\n",
            "const         91.0044     43.553      2.090      0.041       3.886     178.123\n",
            "body           0.9665      0.048     20.278      0.000       0.871       1.062\n",
            "==============================================================================\n",
            "Omnibus:                       92.942   Durbin-Watson:                   2.339\n",
            "Prob(Omnibus):                  0.000   Jarque-Bera (JB):             1738.656\n",
            "Skew:                           4.382   Prob(JB):                         0.00\n",
            "Kurtosis:                      27.417   Cond. No.                         936.\n",
            "==============================================================================\n",
            "\n",
            "Warnings:\n",
            "[1] Standard Errors assume that the covariance matrix of the errors is correctly specified.\n"
          ]
        }
      ],
      "execution_count": 11,
      "metadata": {}
    },
    {
      "cell_type": "code",
      "source": [
        "print(regression2.summary())"
      ],
      "outputs": [
        {
          "output_type": "stream",
          "name": "stdout",
          "text": [
            "                            OLS Regression Results                            \n",
            "==============================================================================\n",
            "Dep. Variable:                  brain   R-squared:                       0.873\n",
            "Model:                            OLS   Adj. R-squared:                  0.871\n",
            "Method:                 Least Squares   F-statistic:                     411.2\n",
            "Date:                Sat, 18 Aug 2018   Prob (F-statistic):           1.54e-28\n",
            "Time:                        10:43:15   Log-Likelihood:                -447.38\n",
            "No. Observations:                  62   AIC:                             898.8\n",
            "Df Residuals:                      60   BIC:                             903.0\n",
            "Df Model:                           1                                         \n",
            "Covariance Type:            nonrobust                                         \n",
            "==============================================================================\n",
            "                 coef    std err          t      P>|t|      [0.025      0.975]\n",
            "------------------------------------------------------------------------------\n",
            "Intercept     91.0044     43.553      2.090      0.041       3.886     178.123\n",
            "body           0.9665      0.048     20.278      0.000       0.871       1.062\n",
            "==============================================================================\n",
            "Omnibus:                       92.942   Durbin-Watson:                   2.339\n",
            "Prob(Omnibus):                  0.000   Jarque-Bera (JB):             1738.656\n",
            "Skew:                           4.382   Prob(JB):                         0.00\n",
            "Kurtosis:                      27.417   Cond. No.                         936.\n",
            "==============================================================================\n",
            "\n",
            "Warnings:\n",
            "[1] Standard Errors assume that the covariance matrix of the errors is correctly specified.\n"
          ]
        }
      ],
      "execution_count": 12,
      "metadata": {}
    },
    {
      "cell_type": "code",
      "source": [
        "regression2.params"
      ],
      "outputs": [
        {
          "output_type": "execute_result",
          "execution_count": 13,
          "data": {
            "text/plain": [
              "Intercept    91.004396\n",
              "body          0.966496\n",
              "dtype: float64"
            ]
          },
          "metadata": {}
        }
      ],
      "execution_count": 13,
      "metadata": {}
    },
    {
      "cell_type": "code",
      "source": [
        "new_body = np.linspace(0,7000,10)"
      ],
      "outputs": [],
      "execution_count": 14,
      "metadata": {}
    },
    {
      "cell_type": "code",
      "source": [
        "brain_pred = regression2.predict(exog=dict(body=new_body))"
      ],
      "outputs": [],
      "execution_count": 15,
      "metadata": {}
    },
    {
      "cell_type": "code",
      "source": [
        "print(brain_pred)"
      ],
      "outputs": [
        {
          "output_type": "stream",
          "name": "stdout",
          "text": [
            "0      91.004396\n",
            "1     842.723793\n",
            "2    1594.443190\n",
            "3    2346.162587\n",
            "4    3097.881985\n",
            "5    3849.601382\n",
            "6    4601.320779\n",
            "7    5353.040176\n",
            "8    6104.759573\n",
            "9    6856.478970\n",
            "dtype: float64\n"
          ]
        }
      ],
      "execution_count": 16,
      "metadata": {}
    },
    {
      "cell_type": "code",
      "source": [
        "# Regression with Scikit-Learn"
      ],
      "outputs": [],
      "execution_count": 17,
      "metadata": {}
    },
    {
      "cell_type": "code",
      "source": [
        "%pylab inline\n",
        "import numpy as np\n",
        "import pandas as pd\n",
        "from sklearn import linear_model"
      ],
      "outputs": [
        {
          "output_type": "stream",
          "name": "stdout",
          "text": [
            "Populating the interactive namespace from numpy and matplotlib\n"
          ]
        }
      ],
      "execution_count": 18,
      "metadata": {}
    },
    {
      "cell_type": "code",
      "source": [
        "mammals = pd.read_csv('../data/mammals.csv')"
      ],
      "outputs": [],
      "execution_count": 19,
      "metadata": {}
    },
    {
      "cell_type": "code",
      "source": [
        "body_data = mammals[['body']]"
      ],
      "outputs": [],
      "execution_count": 20,
      "metadata": {}
    },
    {
      "cell_type": "code",
      "source": [
        "brain_data = mammals[['brain']]"
      ],
      "outputs": [],
      "execution_count": 21,
      "metadata": {}
    },
    {
      "cell_type": "code",
      "source": [
        "sk_regr= linear_model.LinearRegression()"
      ],
      "outputs": [],
      "execution_count": 22,
      "metadata": {}
    },
    {
      "cell_type": "code",
      "source": [
        "sk_regr.fit(body_data, brain_data)"
      ],
      "outputs": [
        {
          "output_type": "execute_result",
          "execution_count": 23,
          "data": {
            "text/plain": [
              "LinearRegression(copy_X=True, fit_intercept=True, n_jobs=1, normalize=False)"
            ]
          },
          "metadata": {}
        }
      ],
      "execution_count": 23,
      "metadata": {}
    },
    {
      "cell_type": "code",
      "source": [
        "print(sk_regr.coef_)"
      ],
      "outputs": [
        {
          "output_type": "stream",
          "name": "stdout",
          "text": [
            "[[ 0.96649637]]\n"
          ]
        }
      ],
      "execution_count": 24,
      "metadata": {}
    },
    {
      "cell_type": "code",
      "source": [
        "print(sk_regr.intercept_)"
      ],
      "outputs": [
        {
          "output_type": "stream",
          "name": "stdout",
          "text": [
            "[ 91.00439621]\n"
          ]
        }
      ],
      "execution_count": 25,
      "metadata": {}
    },
    {
      "cell_type": "code",
      "source": [
        "print(sk_regr.score(body_data,brain_data))"
      ],
      "outputs": [
        {
          "output_type": "stream",
          "name": "stdout",
          "text": [
            "0.872662084304\n"
          ]
        }
      ],
      "execution_count": 26,
      "metadata": {}
    },
    {
      "cell_type": "code",
      "source": [
        "new_body = np.linspace(0,7000,10)\n",
        "new_body = new_body[:,np.newaxis]"
      ],
      "outputs": [],
      "execution_count": 27,
      "metadata": {}
    },
    {
      "cell_type": "code",
      "source": [
        "brain_pred = sk_regr.predict(new_body)"
      ],
      "outputs": [],
      "execution_count": 28,
      "metadata": {}
    },
    {
      "cell_type": "code",
      "source": [
        "print(brain_pred)"
      ],
      "outputs": [
        {
          "output_type": "stream",
          "name": "stdout",
          "text": [
            "[[   91.00439621]\n",
            " [  842.72379329]\n",
            " [ 1594.44319036]\n",
            " [ 2346.16258744]\n",
            " [ 3097.88198452]\n",
            " [ 3849.6013816 ]\n",
            " [ 4601.32077868]\n",
            " [ 5353.04017576]\n",
            " [ 6104.75957284]\n",
            " [ 6856.47896992]]\n"
          ]
        }
      ],
      "execution_count": 29,
      "metadata": {}
    },
    {
      "cell_type": "code",
      "source": [
        "#  Logarithmic Tranformation"
      ],
      "outputs": [],
      "execution_count": 30,
      "metadata": {}
    },
    {
      "cell_type": "code",
      "source": [
        "mammals['log_body'] = log(mammals['body'])"
      ],
      "outputs": [],
      "execution_count": 31,
      "metadata": {}
    },
    {
      "cell_type": "code",
      "source": [
        "mammals['log_brain'] = log(mammals['brain'])"
      ],
      "outputs": [],
      "execution_count": 32,
      "metadata": {}
    },
    {
      "cell_type": "code",
      "source": [
        "plt.scatter(mammals['log_body'],mammals['log_brain'])\n",
        "plt.show()"
      ],
      "outputs": [
        {
          "output_type": "display_data",
          "data": {
            "image/png": "[encoded data removed]",
            "text/plain": [
              "<Figure size 432x288 with 1 Axes>"
            ]
          },
          "metadata": {}
        }
      ],
      "execution_count": 33,
      "metadata": {}
    },
    {
      "cell_type": "code",
      "source": [
        "log_lm = smf.ols(formula = 'log_brain~log_body', data = mammals).fit()"
      ],
      "outputs": [],
      "execution_count": 34,
      "metadata": {}
    },
    {
      "cell_type": "code",
      "source": [
        "print(log_lm.summary())"
      ],
      "outputs": [
        {
          "output_type": "stream",
          "name": "stdout",
          "text": [
            "                            OLS Regression Results                            \n",
            "==============================================================================\n",
            "Dep. Variable:              log_brain   R-squared:                       0.921\n",
            "Model:                            OLS   Adj. R-squared:                  0.919\n",
            "Method:                 Least Squares   F-statistic:                     697.4\n",
            "Date:                Sat, 18 Aug 2018   Prob (F-statistic):           9.84e-35\n",
            "Time:                        10:43:47   Log-Likelihood:                -64.336\n",
            "No. Observations:                  62   AIC:                             132.7\n",
            "Df Residuals:                      60   BIC:                             136.9\n",
            "Df Model:                           1                                         \n",
            "Covariance Type:            nonrobust                                         \n",
            "==============================================================================\n",
            "                 coef    std err          t      P>|t|      [0.025      0.975]\n",
            "------------------------------------------------------------------------------\n",
            "Intercept      2.1348      0.096     22.227      0.000       1.943       2.327\n",
            "log_body       0.7517      0.028     26.409      0.000       0.695       0.809\n",
            "==============================================================================\n",
            "Omnibus:                        2.698   Durbin-Watson:                   1.980\n",
            "Prob(Omnibus):                  0.260   Jarque-Bera (JB):                1.933\n",
            "Skew:                           0.405   Prob(JB):                        0.380\n",
            "Kurtosis:                       3.301   Cond. No.                         3.73\n",
            "==============================================================================\n",
            "\n",
            "Warnings:\n",
            "[1] Standard Errors assume that the covariance matrix of the errors is correctly specified.\n"
          ]
        }
      ],
      "execution_count": 35,
      "metadata": {}
    },
    {
      "cell_type": "code",
      "source": [
        "log_lm.params"
      ],
      "outputs": [
        {
          "output_type": "execute_result",
          "execution_count": 36,
          "data": {
            "text/plain": [
              "Intercept    2.134789\n",
              "log_body     0.751686\n",
              "dtype: float64"
            ]
          },
          "metadata": {}
        }
      ],
      "execution_count": 36,
      "metadata": {}
    },
    {
      "cell_type": "code",
      "source": [
        "plt.scatter(mammals['log_body'],mammals['log_brain'])\n",
        "X_plot = np.linspace(-7,10,50)\n",
        "plt.plot(X_plot, X_plot*log_lm.params[1] + log_lm.params[0])\n",
        "plt.show()"
      ],
      "outputs": [
        {
          "output_type": "display_data",
          "data": {
            "image/png": "[encoded data removed]",
            "text/plain": [
              "<Figure size 432x288 with 1 Axes>"
            ]
          },
          "metadata": {}
        }
      ],
      "execution_count": 37,
      "metadata": {}
    },
    {
      "cell_type": "code",
      "source": [
        "plt.scatter(mammals['body'],mammals['brain'])\n",
        "X_plot = np.linspace(0,7000,10000)\n",
        "plt.plot(X_plot, X_plot*regression2.params[1] + regression2.params[0])\n",
        "plt.plot(X_plot, np.exp(log_lm.params[0])*X_plot**log_lm.params[1])\n",
        "plt.show()"
      ],
      "outputs": [
        {
          "output_type": "display_data",
          "data": {
            "image/png": "[encoded data removed]",
            "text/plain": [
              "<Figure size 432x288 with 1 Axes>"
            ]
          },
          "metadata": {}
        }
      ],
      "execution_count": 38,
      "metadata": {}
    },
    {
      "cell_type": "code",
      "source": [
        "# Unit Scaling"
      ],
      "outputs": [],
      "execution_count": 139,
      "metadata": {}
    },
    {
      "cell_type": "code",
      "source": [
        "from sklearn import preprocessing"
      ],
      "outputs": [],
      "execution_count": 39,
      "metadata": {
        "collapsed": false,
        "outputHidden": false,
        "inputHidden": false
      }
    },
    {
      "cell_type": "code",
      "source": [
        "scaler = preprocessing.MinMaxScaler()"
      ],
      "outputs": [],
      "execution_count": 40,
      "metadata": {
        "collapsed": false,
        "outputHidden": false,
        "inputHidden": false
      }
    },
    {
      "cell_type": "code",
      "source": [
        "mammals_minmax = pd.DataFrame(scaler.fit_transform(mammals[['body','brain']]),\\\n",
        "                             columns = ['body','brain'])"
      ],
      "outputs": [],
      "execution_count": 43,
      "metadata": {
        "collapsed": false,
        "outputHidden": false,
        "inputHidden": false
      }
    },
    {
      "cell_type": "code",
      "source": [
        "mammals_minmax.head()"
      ],
      "outputs": [
        {
          "output_type": "execute_result",
          "execution_count": 45,
          "data": {
            "text/html": [
              "<div>\n",
              "<table border=\"1\" class=\"dataframe\">\n",
              "  <thead>\n",
              "    <tr style=\"text-align: right;\">\n",
              "      <th></th>\n",
              "      <th>body</th>\n",
              "      <th>brain</th>\n",
              "    </tr>\n",
              "  </thead>\n",
              "  <tbody>\n",
              "    <tr>\n",
              "      <th>0</th>\n",
              "      <td>0.000508</td>\n",
              "      <td>0.007766</td>\n",
              "    </tr>\n",
              "    <tr>\n",
              "      <th>1</th>\n",
              "      <td>0.000071</td>\n",
              "      <td>0.002689</td>\n",
              "    </tr>\n",
              "    <tr>\n",
              "      <th>2</th>\n",
              "      <td>0.000202</td>\n",
              "      <td>0.001394</td>\n",
              "    </tr>\n",
              "    <tr>\n",
              "      <th>3</th>\n",
              "      <td>0.069882</td>\n",
              "      <td>0.074032</td>\n",
              "    </tr>\n",
              "    <tr>\n",
              "      <th>4</th>\n",
              "      <td>0.005459</td>\n",
              "      <td>0.020897</td>\n",
              "    </tr>\n",
              "  </tbody>\n",
              "</table>\n",
              "</div>"
            ],
            "text/plain": [
              "       body     brain\n",
              "0  0.000508  0.007766\n",
              "1  0.000071  0.002689\n",
              "2  0.000202  0.001394\n",
              "3  0.069882  0.074032\n",
              "4  0.005459  0.020897"
            ]
          },
          "metadata": {}
        }
      ],
      "execution_count": 45,
      "metadata": {
        "collapsed": false,
        "outputHidden": false,
        "inputHidden": false
      }
    },
    {
      "cell_type": "code",
      "source": [
        "mammals_minmax.groupby(lambda idx: 0).agg(['min','max'])"
      ],
      "outputs": [
        {
          "output_type": "execute_result",
          "execution_count": 52,
          "data": {
            "text/html": [
              "<div>\n",
              "<table border=\"1\" class=\"dataframe\">\n",
              "  <thead>\n",
              "    <tr>\n",
              "      <th></th>\n",
              "      <th colspan=\"2\" halign=\"left\">body</th>\n",
              "      <th colspan=\"2\" halign=\"left\">brain</th>\n",
              "    </tr>\n",
              "    <tr>\n",
              "      <th></th>\n",
              "      <th>min</th>\n",
              "      <th>max</th>\n",
              "      <th>min</th>\n",
              "      <th>max</th>\n",
              "    </tr>\n",
              "  </thead>\n",
              "  <tbody>\n",
              "    <tr>\n",
              "      <th>0</th>\n",
              "      <td>0.0</td>\n",
              "      <td>1.0</td>\n",
              "      <td>0.0</td>\n",
              "      <td>1.0</td>\n",
              "    </tr>\n",
              "  </tbody>\n",
              "</table>\n",
              "</div>"
            ],
            "text/plain": [
              "  body      brain     \n",
              "   min  max   min  max\n",
              "0  0.0  1.0   0.0  1.0"
            ]
          },
          "metadata": {}
        }
      ],
      "execution_count": 52,
      "metadata": {
        "collapsed": false,
        "outputHidden": false,
        "inputHidden": false
      }
    },
    {
      "cell_type": "code",
      "source": [
        "# Z-Score Scaling"
      ],
      "outputs": [],
      "execution_count": 140,
      "metadata": {}
    },
    {
      "cell_type": "code",
      "source": [
        "scaler2 = preprocessing.StandardScaler()\n",
        "mammals_std = pd.DataFrame(scaler2.fit_transform(mammals[['body','brain']]),\n",
        "                          columns = ['body','brain'])"
      ],
      "outputs": [],
      "execution_count": 54,
      "metadata": {
        "collapsed": false,
        "outputHidden": false,
        "inputHidden": false
      }
    },
    {
      "cell_type": "code",
      "source": [
        "mammals_std.head()"
      ],
      "outputs": [
        {
          "output_type": "execute_result",
          "execution_count": 55,
          "data": {
            "text/html": [
              "<div>\n",
              "<table border=\"1\" class=\"dataframe\">\n",
              "  <thead>\n",
              "    <tr style=\"text-align: right;\">\n",
              "      <th></th>\n",
              "      <th>body</th>\n",
              "      <th>brain</th>\n",
              "    </tr>\n",
              "  </thead>\n",
              "  <tbody>\n",
              "    <tr>\n",
              "      <th>0</th>\n",
              "      <td>-0.219094</td>\n",
              "      <td>-0.258613</td>\n",
              "    </tr>\n",
              "    <tr>\n",
              "      <th>1</th>\n",
              "      <td>-0.222351</td>\n",
              "      <td>-0.290041</td>\n",
              "    </tr>\n",
              "    <tr>\n",
              "      <th>2</th>\n",
              "      <td>-0.221376</td>\n",
              "      <td>-0.298061</td>\n",
              "    </tr>\n",
              "    <tr>\n",
              "      <th>3</th>\n",
              "      <td>0.298483</td>\n",
              "      <td>0.151576</td>\n",
              "    </tr>\n",
              "    <tr>\n",
              "      <th>4</th>\n",
              "      <td>-0.182155</td>\n",
              "      <td>-0.177334</td>\n",
              "    </tr>\n",
              "  </tbody>\n",
              "</table>\n",
              "</div>"
            ],
            "text/plain": [
              "       body     brain\n",
              "0 -0.219094 -0.258613\n",
              "1 -0.222351 -0.290041\n",
              "2 -0.221376 -0.298061\n",
              "3  0.298483  0.151576\n",
              "4 -0.182155 -0.177334"
            ]
          },
          "metadata": {}
        }
      ],
      "execution_count": 55,
      "metadata": {
        "collapsed": false,
        "outputHidden": false,
        "inputHidden": false
      }
    },
    {
      "cell_type": "code",
      "source": [
        "mammals_std.groupby(lambda idx: 0).agg(['min','max'])"
      ],
      "outputs": [
        {
          "output_type": "execute_result",
          "execution_count": 56,
          "data": {
            "text/html": [
              "<div>\n",
              "<table border=\"1\" class=\"dataframe\">\n",
              "  <thead>\n",
              "    <tr>\n",
              "      <th></th>\n",
              "      <th colspan=\"2\" halign=\"left\">body</th>\n",
              "      <th colspan=\"2\" halign=\"left\">brain</th>\n",
              "    </tr>\n",
              "    <tr>\n",
              "      <th></th>\n",
              "      <th>min</th>\n",
              "      <th>max</th>\n",
              "      <th>min</th>\n",
              "      <th>max</th>\n",
              "    </tr>\n",
              "  </thead>\n",
              "  <tbody>\n",
              "    <tr>\n",
              "      <th>0</th>\n",
              "      <td>-0.222884</td>\n",
              "      <td>7.237778</td>\n",
              "      <td>-0.306687</td>\n",
              "      <td>5.883379</td>\n",
              "    </tr>\n",
              "  </tbody>\n",
              "</table>\n",
              "</div>"
            ],
            "text/plain": [
              "       body               brain          \n",
              "        min       max       min       max\n",
              "0 -0.222884  7.237778 -0.306687  5.883379"
            ]
          },
          "metadata": {}
        }
      ],
      "execution_count": 56,
      "metadata": {
        "collapsed": false,
        "outputHidden": false,
        "inputHidden": false
      }
    },
    {
      "cell_type": "code",
      "source": [
        "# Polynomial Regression"
      ],
      "outputs": [],
      "execution_count": 141,
      "metadata": {}
    },
    {
      "cell_type": "code",
      "source": [
        "mammals['body_squared'] = mammals['body']**2"
      ],
      "outputs": [],
      "execution_count": 57,
      "metadata": {
        "collapsed": false,
        "outputHidden": false,
        "inputHidden": false
      }
    },
    {
      "cell_type": "code",
      "source": [
        "# with StatsModels\n",
        "poly_reg = smf.ols(formula = 'brain~body+body_squared',\n",
        "                  data = mammals).fit()"
      ],
      "outputs": [],
      "execution_count": 58,
      "metadata": {
        "collapsed": false,
        "outputHidden": false,
        "inputHidden": false
      }
    },
    {
      "cell_type": "code",
      "source": [
        "print(poly_reg.params)"
      ],
      "outputs": [
        {
          "output_type": "stream",
          "name": "stdout",
          "text": [
            "Intercept       19.115299\n",
            "body             2.123929\n",
            "body_squared    -0.000189\n",
            "dtype: float64\n"
          ]
        }
      ],
      "execution_count": 59,
      "metadata": {
        "collapsed": false,
        "outputHidden": false,
        "inputHidden": false
      }
    },
    {
      "cell_type": "code",
      "source": [
        "poly_brain_pred = poly_reg.predict(exog=dict(body=new_body, \n",
        "                                             body_squared = new_body ** 2))"
      ],
      "outputs": [],
      "execution_count": 60,
      "metadata": {
        "collapsed": false,
        "outputHidden": false,
        "inputHidden": false
      }
    },
    {
      "cell_type": "code",
      "source": [
        "plt.scatter(mammals['body'],mammals['brain'])\n",
        "X_plot = np.linspace(0,7000,10000)\n",
        "plt.plot(X_plot, X_plot*regression2.params[1] + regression2.params[0])\n",
        "plt.plot(X_plot, np.exp(log_lm.params[0])*X_plot**log_lm.params[1])\n",
        "plt.plot(X_plot, poly_reg.params[0] + poly_reg.params[1]*X_plot + \n",
        "         poly_reg.params[2]*(X_plot**2))\n",
        "plt.show()"
      ],
      "outputs": [
        {
          "output_type": "display_data",
          "data": {
            "image/png": "[encoded data removed]",
            "text/plain": [
              "<Figure size 432x288 with 1 Axes>"
            ]
          },
          "metadata": {}
        }
      ],
      "execution_count": 61,
      "metadata": {
        "collapsed": false,
        "outputHidden": false,
        "inputHidden": false
      }
    },
    {
      "cell_type": "code",
      "source": [
        "# Shrinkage: LASSO & Ridge"
      ],
      "outputs": [],
      "execution_count": 62,
      "metadata": {}
    },
    {
      "cell_type": "code",
      "source": [
        "# let's build a new feature in mammals dataset, for demo purposes"
      ],
      "outputs": [],
      "execution_count": 63,
      "metadata": {
        "collapsed": false,
        "outputHidden": false,
        "inputHidden": false
      }
    },
    {
      "cell_type": "code",
      "source": [
        "mammals['body_cubed'] = mammals['body'] ** 3"
      ],
      "outputs": [],
      "execution_count": 64,
      "metadata": {
        "collapsed": false,
        "outputHidden": false,
        "inputHidden": false
      }
    },
    {
      "cell_type": "code",
      "source": [
        "from sklearn import preprocessing"
      ],
      "outputs": [],
      "execution_count": 65,
      "metadata": {
        "collapsed": false,
        "outputHidden": false,
        "inputHidden": false
      }
    },
    {
      "cell_type": "code",
      "source": [
        "X = mammals[['body', 'body_squared', 'body_cubed']]\n",
        "Y = mammals[['brain']]"
      ],
      "outputs": [],
      "execution_count": 66,
      "metadata": {
        "collapsed": false,
        "outputHidden": false,
        "inputHidden": false
      }
    },
    {
      "cell_type": "code",
      "source": [
        "Xscaled = preprocessing.StandardScaler().fit_transform(X)\n",
        "Yscaled = preprocessing.StandardScaler().fit_transform(Y)"
      ],
      "outputs": [],
      "execution_count": 67,
      "metadata": {
        "collapsed": false,
        "outputHidden": false,
        "inputHidden": false
      }
    },
    {
      "cell_type": "code",
      "source": [
        "import sklearn.model_selection as ms"
      ],
      "outputs": [],
      "execution_count": 68,
      "metadata": {
        "collapsed": false,
        "outputHidden": false,
        "inputHidden": false
      }
    },
    {
      "cell_type": "code",
      "source": [
        "XTrain, XTest, YTrain, YTest =\\\n",
        "ms.train_test_split(Xscaled,Yscaled,test_size = 0.2, random_state = 42)"
      ],
      "outputs": [],
      "execution_count": 69,
      "metadata": {
        "collapsed": false,
        "outputHidden": false,
        "inputHidden": false
      }
    },
    {
      "cell_type": "code",
      "source": [
        "from sklearn.model_selection import GridSearchCV\n",
        "from sklearn.linear_model import Ridge, Lasso"
      ],
      "outputs": [],
      "execution_count": 71,
      "metadata": {
        "collapsed": false,
        "outputHidden": false,
        "inputHidden": false
      }
    },
    {
      "cell_type": "code",
      "source": [
        "lambda_range = linspace(0.001, 0.2, 25)"
      ],
      "outputs": [],
      "execution_count": 72,
      "metadata": {
        "collapsed": false,
        "outputHidden": false,
        "inputHidden": false
      }
    },
    {
      "cell_type": "code",
      "source": [
        "lambda_grid = [{'alpha':lambda_range}]"
      ],
      "outputs": [],
      "execution_count": 74,
      "metadata": {
        "collapsed": false,
        "outputHidden": false,
        "inputHidden": false
      }
    },
    {
      "cell_type": "code",
      "source": [
        "lambda_grid"
      ],
      "outputs": [
        {
          "output_type": "execute_result",
          "execution_count": 75,
          "data": {
            "text/plain": [
              "[{'alpha': array([ 0.001     ,  0.00929167,  0.01758333,  0.025875  ,  0.03416667,\n",
              "          0.04245833,  0.05075   ,  0.05904167,  0.06733333,  0.075625  ,\n",
              "          0.08391667,  0.09220833,  0.1005    ,  0.10879167,  0.11708333,\n",
              "          0.125375  ,  0.13366667,  0.14195833,  0.15025   ,  0.15854167,\n",
              "          0.16683333,  0.175125  ,  0.18341667,  0.19170833,  0.2       ])}]"
            ]
          },
          "metadata": {}
        }
      ],
      "execution_count": 75,
      "metadata": {
        "collapsed": false,
        "outputHidden": false,
        "inputHidden": false
      }
    },
    {
      "cell_type": "code",
      "source": [
        "model1 = Ridge(max_iter=10000)\n",
        "cv_ridge = GridSearchCV(estimator=model1, \n",
        "                       param_grid = lambda_grid,\n",
        "                       cv = ms.KFold(n_splits=20))"
      ],
      "outputs": [],
      "execution_count": 76,
      "metadata": {
        "collapsed": false,
        "outputHidden": false,
        "inputHidden": false
      }
    },
    {
      "cell_type": "code",
      "source": [
        "cv_ridge.fit(XTrain, YTrain)"
      ],
      "outputs": [
        {
          "output_type": "execute_result",
          "execution_count": 77,
          "data": {
            "text/plain": [
              "GridSearchCV(cv=KFold(n_splits=20, random_state=None, shuffle=False),\n",
              "       error_score='raise',\n",
              "       estimator=Ridge(alpha=1.0, copy_X=True, fit_intercept=True, max_iter=10000,\n",
              "   normalize=False, random_state=None, solver='auto', tol=0.001),\n",
              "       fit_params={}, iid=True, n_jobs=1,\n",
              "       param_grid=[{'alpha': array([ 0.001  ,  0.00929,  0.01758,  0.02588,  0.03417,  0.04246,\n",
              "        0.05075,  0.05904,  0.06733,  0.07563,  0.08392,  0.09221,\n",
              "        0.1005 ,  0.10879,  0.11708,  0.12538,  0.13367,  0.14196,\n",
              "        0.15025,  0.15854,  0.16683,  0.17513,  0.18342,  0.19171,  0.2    ])}],\n",
              "       pre_dispatch='2*n_jobs', refit=True, return_train_score=True,\n",
              "       scoring=None, verbose=0)"
            ]
          },
          "metadata": {}
        }
      ],
      "execution_count": 77,
      "metadata": {
        "collapsed": false,
        "outputHidden": false,
        "inputHidden": false
      }
    },
    {
      "cell_type": "code",
      "source": [
        "model2 = Lasso(max_iter=10000)\n",
        "cv_lasso = GridSearchCV(estimator=model2,\n",
        "                       param_grid = lambda_grid,\n",
        "                       cv = ms.KFold(n_splits=20))"
      ],
      "outputs": [],
      "execution_count": 80,
      "metadata": {
        "collapsed": false,
        "outputHidden": false,
        "inputHidden": false
      }
    },
    {
      "cell_type": "code",
      "source": [
        "cv_lasso.fit(XTrain, YTrain)"
      ],
      "outputs": [
        {
          "output_type": "execute_result",
          "execution_count": 81,
          "data": {
            "text/plain": [
              "GridSearchCV(cv=KFold(n_splits=20, random_state=None, shuffle=False),\n",
              "       error_score='raise',\n",
              "       estimator=Lasso(alpha=1.0, copy_X=True, fit_intercept=True, max_iter=10000,\n",
              "   normalize=False, positive=False, precompute=False, random_state=None,\n",
              "   selection='cyclic', tol=0.0001, warm_start=False),\n",
              "       fit_params={}, iid=True, n_jobs=1,\n",
              "       param_grid=[{'alpha': array([ 0.001  ,  0.00929,  0.01758,  0.02588,  0.03417,  0.04246,\n",
              "        0.05075,  0.05904,  0.06733,  0.07563,  0.08392,  0.09221,\n",
              "        0.1005 ,  0.10879,  0.11708,  0.12538,  0.13367,  0.14196,\n",
              "        0.15025,  0.15854,  0.16683,  0.17513,  0.18342,  0.19171,  0.2    ])}],\n",
              "       pre_dispatch='2*n_jobs', refit=True, return_train_score=True,\n",
              "       scoring=None, verbose=0)"
            ]
          },
          "metadata": {}
        }
      ],
      "execution_count": 81,
      "metadata": {
        "collapsed": false,
        "outputHidden": false,
        "inputHidden": false
      }
    },
    {
      "cell_type": "code",
      "source": [
        "cv_ridge.best_params_['alpha']"
      ],
      "outputs": [
        {
          "output_type": "execute_result",
          "execution_count": 82,
          "data": {
            "text/plain": [
              "0.13366666666666668"
            ]
          },
          "metadata": {}
        }
      ],
      "execution_count": 82,
      "metadata": {
        "collapsed": false,
        "outputHidden": false,
        "inputHidden": false
      }
    },
    {
      "cell_type": "code",
      "source": [
        "cv_lasso.best_params_['alpha']"
      ],
      "outputs": [
        {
          "output_type": "execute_result",
          "execution_count": 85,
          "data": {
            "text/plain": [
              "0.0092916666666666668"
            ]
          },
          "metadata": {}
        }
      ],
      "execution_count": 85,
      "metadata": {
        "collapsed": false,
        "outputHidden": false,
        "inputHidden": false
      }
    },
    {
      "cell_type": "code",
      "source": [
        "# We can now use the parameters with the corresponding model to extract \n",
        "# the coefficients"
      ],
      "outputs": [],
      "execution_count": 86,
      "metadata": {
        "collapsed": false,
        "outputHidden": false,
        "inputHidden": false
      }
    },
    {
      "cell_type": "code",
      "source": [
        "bestLambda"
      ],
      "outputs": [],
      "execution_count": null,
      "metadata": {
        "collapsed": false,
        "outputHidden": false,
        "inputHidden": false
      }
    }
  ],
  "metadata": {
    "kernelspec": {
      "name": "dsap",
      "language": "python",
      "display_name": "DSAP"
    },
    "language_info": {
      "name": "python",
      "mimetype": "text/x-python",
      "file_extension": ".py",
      "pygments_lexer": "ipython3",
      "codemirror_mode": {
        "name": "ipython",
        "version": 3
      },
      "version": "3.5.5",
      "nbconvert_exporter": "python"
    },
    "kernel_info": {
      "name": "dsap"
    },
    "nteract": {
      "version": "0.11.4"
    }
  },
  "nbformat": 4,
  "nbformat_minor": 2
}